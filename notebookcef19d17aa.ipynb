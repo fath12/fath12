{
 "cells": [
  {
   "cell_type": "code",
   "execution_count": 1,
   "id": "11c219fd",
   "metadata": {
    "_cell_guid": "b1076dfc-b9ad-4769-8c92-a6c4dae69d19",
    "_uuid": "8f2839f25d086af736a60e9eeb907d3b93b6e0e5",
    "execution": {
     "iopub.execute_input": "2024-03-09T16:02:14.380082Z",
     "iopub.status.busy": "2024-03-09T16:02:14.379674Z",
     "iopub.status.idle": "2024-03-09T16:02:15.535595Z",
     "shell.execute_reply": "2024-03-09T16:02:15.533398Z"
    },
    "papermill": {
     "duration": 1.168992,
     "end_time": "2024-03-09T16:02:15.539571",
     "exception": false,
     "start_time": "2024-03-09T16:02:14.370579",
     "status": "completed"
    },
    "tags": []
   },
   "outputs": [
    {
     "name": "stdout",
     "output_type": "stream",
     "text": [
      "/kaggle/input/tbo-hotels-dataset/hotels.csv\n"
     ]
    }
   ],
   "source": [
    "# This Python 3 environment comes with many helpful analytics libraries installed\n",
    "# It is defined by the kaggle/python Docker image: https://github.com/kaggle/docker-python\n",
    "# For example, here's several helpful packages to load\n",
    "\n",
    "import numpy as np # linear algebra\n",
    "import pandas as pd # data processing, CSV file I/O (e.g. pd.read_csv)\n",
    "\n",
    "# Input data files are available in the read-only \"../input/\" directory\n",
    "# For example, running this (by clicking run or pressing Shift+Enter) will list all files under the input directory\n",
    "\n",
    "import os\n",
    "for dirname, _, filenames in os.walk('/kaggle/input'):\n",
    "    for filename in filenames:\n",
    "        print(os.path.join(dirname, filename))\n",
    "\n",
    "# You can write up to 20GB to the current directory (/kaggle/working/) that gets preserved as output when you create a version using \"Save & Run All\" \n",
    "# You can also write temporary files to /kaggle/temp/, but they won't be saved outside of the current session"
   ]
  },
  {
   "cell_type": "code",
   "execution_count": 2,
   "id": "80430f30",
   "metadata": {
    "execution": {
     "iopub.execute_input": "2024-03-09T16:02:15.556500Z",
     "iopub.status.busy": "2024-03-09T16:02:15.555911Z",
     "iopub.status.idle": "2024-03-09T16:03:31.786397Z",
     "shell.execute_reply": "2024-03-09T16:03:31.784858Z"
    },
    "papermill": {
     "duration": 76.247628,
     "end_time": "2024-03-09T16:03:31.794548",
     "exception": false,
     "start_time": "2024-03-09T16:02:15.546920",
     "status": "completed"
    },
    "tags": []
   },
   "outputs": [
    {
     "data": {
      "text/html": [
       "<div>\n",
       "<style scoped>\n",
       "    .dataframe tbody tr th:only-of-type {\n",
       "        vertical-align: middle;\n",
       "    }\n",
       "\n",
       "    .dataframe tbody tr th {\n",
       "        vertical-align: top;\n",
       "    }\n",
       "\n",
       "    .dataframe thead th {\n",
       "        text-align: right;\n",
       "    }\n",
       "</style>\n",
       "<table border=\"1\" class=\"dataframe\">\n",
       "  <thead>\n",
       "    <tr style=\"text-align: right;\">\n",
       "      <th></th>\n",
       "      <th>countyCode</th>\n",
       "      <th>countyName</th>\n",
       "      <th>cityCode</th>\n",
       "      <th>cityName</th>\n",
       "      <th>HotelCode</th>\n",
       "      <th>HotelName</th>\n",
       "      <th>HotelRating</th>\n",
       "      <th>Address</th>\n",
       "      <th>Attractions</th>\n",
       "      <th>Description</th>\n",
       "      <th>FaxNumber</th>\n",
       "      <th>HotelFacilities</th>\n",
       "      <th>Map</th>\n",
       "      <th>PhoneNumber</th>\n",
       "      <th>PinCode</th>\n",
       "      <th>HotelWebsiteUrl</th>\n",
       "    </tr>\n",
       "  </thead>\n",
       "  <tbody>\n",
       "    <tr>\n",
       "      <th>0</th>\n",
       "      <td>AL</td>\n",
       "      <td>Albania</td>\n",
       "      <td>106078</td>\n",
       "      <td>Albanien</td>\n",
       "      <td>1003300</td>\n",
       "      <td>De Paris Hotel</td>\n",
       "      <td>FourStar</td>\n",
       "      <td>Nr. 7 Brigada Viii Street Tirane</td>\n",
       "      <td>NaN</td>\n",
       "      <td>Hotel de Paris is a charming boutique hotel th...</td>\n",
       "      <td>42268822</td>\n",
       "      <td>Private parking Parking onsite Television in c...</td>\n",
       "      <td>41.32213|19.81665</td>\n",
       "      <td>00355 4226 5009</td>\n",
       "      <td>1000</td>\n",
       "      <td>https://www.booking.com/hotel/al/de-paris.html</td>\n",
       "    </tr>\n",
       "    <tr>\n",
       "      <th>1</th>\n",
       "      <td>AL</td>\n",
       "      <td>Albania</td>\n",
       "      <td>106078</td>\n",
       "      <td>Albanien</td>\n",
       "      <td>1003301</td>\n",
       "      <td>Hotel Green</td>\n",
       "      <td>FourStar</td>\n",
       "      <td>Rruga Kavajes. Kombinat Km 2. Vaqarr VaqarrTir...</td>\n",
       "      <td>NaN</td>\n",
       "      <td>Located in a suburb of Tirana, Hotel Green is ...</td>\n",
       "      <td>35548520058</td>\n",
       "      <td>airport pick up wifi available in all areas Ai...</td>\n",
       "      <td>41.30413|19.74703</td>\n",
       "      <td>+35548520057</td>\n",
       "      <td>1041</td>\n",
       "      <td>https://www.booking.com/hotel/al/hotel-green.html</td>\n",
       "    </tr>\n",
       "    <tr>\n",
       "      <th>2</th>\n",
       "      <td>AL</td>\n",
       "      <td>Albania</td>\n",
       "      <td>106078</td>\n",
       "      <td>Albanien</td>\n",
       "      <td>1003302</td>\n",
       "      <td>Theranda Hotel</td>\n",
       "      <td>ThreeStar</td>\n",
       "      <td>Rr. Andon Zako Cajupi Villa 6 &amp; 7 Villa 6 &amp; 7T...</td>\n",
       "      <td>NaN</td>\n",
       "      <td>Set in Tirana, 1.2 km from Skanderbeg Square, ...</td>\n",
       "      <td>00355 (0)42273689</td>\n",
       "      <td>face masks for guests available all plates  cu...</td>\n",
       "      <td>41.3216|19.81199</td>\n",
       "      <td>00355 (0)42273766</td>\n",
       "      <td>1019</td>\n",
       "      <td>https://www.booking.com/hotel/al/theranda.html</td>\n",
       "    </tr>\n",
       "    <tr>\n",
       "      <th>3</th>\n",
       "      <td>AL</td>\n",
       "      <td>Albania</td>\n",
       "      <td>106078</td>\n",
       "      <td>Albanien</td>\n",
       "      <td>1003303</td>\n",
       "      <td>Seven Hotel</td>\n",
       "      <td>ThreeStar</td>\n",
       "      <td>KAVAJA STREET, CLOSE TURKISH AMBASSY TIRANA</td>\n",
       "      <td>Skanderbeg Square: within 500 metre</td>\n",
       "      <td>This hotel enjoys an enviable setting in Tiran...</td>\n",
       "      <td>NaN</td>\n",
       "      <td>À la carte dinner Breakfast buffet Breakfast C...</td>\n",
       "      <td>41.328027|19.815052</td>\n",
       "      <td>NaN</td>\n",
       "      <td>1001</td>\n",
       "      <td>http://www.hotelseven-tirana.com/</td>\n",
       "    </tr>\n",
       "    <tr>\n",
       "      <th>4</th>\n",
       "      <td>AL</td>\n",
       "      <td>Albania</td>\n",
       "      <td>106078</td>\n",
       "      <td>Albanien</td>\n",
       "      <td>1003325</td>\n",
       "      <td>Viktoria</td>\n",
       "      <td>ThreeStar</td>\n",
       "      <td>Rruga E Elbasanit Km 4 Sauk SaukTirana</td>\n",
       "      <td>NaN</td>\n",
       "      <td>Located in a new residential area at the edge ...</td>\n",
       "      <td>+355695406986</td>\n",
       "      <td>internet services Ironing service Family rooms...</td>\n",
       "      <td>41.29125|19.85349</td>\n",
       "      <td>355 69 5406986</td>\n",
       "      <td>1000</td>\n",
       "      <td>https://www.booking.com/hotel/al/viktoria-sauk...</td>\n",
       "    </tr>\n",
       "  </tbody>\n",
       "</table>\n",
       "</div>"
      ],
      "text/plain": [
       "  countyCode  countyName   cityCode  cityName   HotelCode       HotelName  \\\n",
       "0         AL     Albania     106078  Albanien     1003300  De Paris Hotel   \n",
       "1         AL     Albania     106078  Albanien     1003301     Hotel Green   \n",
       "2         AL     Albania     106078  Albanien     1003302  Theranda Hotel   \n",
       "3         AL     Albania     106078  Albanien     1003303     Seven Hotel   \n",
       "4         AL     Albania     106078  Albanien     1003325        Viktoria   \n",
       "\n",
       "   HotelRating                                            Address  \\\n",
       "0     FourStar                  Nr. 7 Brigada Viii Street Tirane    \n",
       "1     FourStar  Rruga Kavajes. Kombinat Km 2. Vaqarr VaqarrTir...   \n",
       "2    ThreeStar  Rr. Andon Zako Cajupi Villa 6 & 7 Villa 6 & 7T...   \n",
       "3    ThreeStar       KAVAJA STREET, CLOSE TURKISH AMBASSY TIRANA    \n",
       "4    ThreeStar            Rruga E Elbasanit Km 4 Sauk SaukTirana    \n",
       "\n",
       "                            Attractions  \\\n",
       "0                                   NaN   \n",
       "1                                   NaN   \n",
       "2                                   NaN   \n",
       "3  Skanderbeg Square: within 500 metre    \n",
       "4                                   NaN   \n",
       "\n",
       "                                         Description          FaxNumber  \\\n",
       "0  Hotel de Paris is a charming boutique hotel th...           42268822   \n",
       "1  Located in a suburb of Tirana, Hotel Green is ...        35548520058   \n",
       "2  Set in Tirana, 1.2 km from Skanderbeg Square, ...  00355 (0)42273689   \n",
       "3  This hotel enjoys an enviable setting in Tiran...                NaN   \n",
       "4  Located in a new residential area at the edge ...      +355695406986   \n",
       "\n",
       "                                     HotelFacilities                  Map  \\\n",
       "0  Private parking Parking onsite Television in c...    41.32213|19.81665   \n",
       "1  airport pick up wifi available in all areas Ai...    41.30413|19.74703   \n",
       "2  face masks for guests available all plates  cu...     41.3216|19.81199   \n",
       "3  À la carte dinner Breakfast buffet Breakfast C...  41.328027|19.815052   \n",
       "4  internet services Ironing service Family rooms...    41.29125|19.85349   \n",
       "\n",
       "         PhoneNumber  PinCode  \\\n",
       "0    00355 4226 5009     1000   \n",
       "1       +35548520057     1041   \n",
       "2  00355 (0)42273766     1019   \n",
       "3                NaN     1001   \n",
       "4     355 69 5406986     1000   \n",
       "\n",
       "                                     HotelWebsiteUrl  \n",
       "0     https://www.booking.com/hotel/al/de-paris.html  \n",
       "1  https://www.booking.com/hotel/al/hotel-green.html  \n",
       "2     https://www.booking.com/hotel/al/theranda.html  \n",
       "3                  http://www.hotelseven-tirana.com/  \n",
       "4  https://www.booking.com/hotel/al/viktoria-sauk...  "
      ]
     },
     "execution_count": 2,
     "metadata": {},
     "output_type": "execute_result"
    }
   ],
   "source": [
    "df = pd.read_csv(\"/kaggle/input/tbo-hotels-dataset/hotels.csv\", encoding='latin-1')\n",
    "df.head()"
   ]
  },
  {
   "cell_type": "code",
   "execution_count": 3,
   "id": "acb3d74e",
   "metadata": {
    "execution": {
     "iopub.execute_input": "2024-03-09T16:03:31.811536Z",
     "iopub.status.busy": "2024-03-09T16:03:31.811048Z",
     "iopub.status.idle": "2024-03-09T16:03:33.406627Z",
     "shell.execute_reply": "2024-03-09T16:03:33.405070Z"
    },
    "papermill": {
     "duration": 1.60784,
     "end_time": "2024-03-09T16:03:33.409633",
     "exception": false,
     "start_time": "2024-03-09T16:03:31.801793",
     "status": "completed"
    },
    "tags": []
   },
   "outputs": [
    {
     "name": "stdout",
     "output_type": "stream",
     "text": [
      "<class 'pandas.core.frame.DataFrame'>\n",
      "RangeIndex: 1010033 entries, 0 to 1010032\n",
      "Data columns (total 16 columns):\n",
      " #   Column            Non-Null Count    Dtype \n",
      "---  ------            --------------    ----- \n",
      " 0   countyCode        1009121 non-null  object\n",
      " 1    countyName       1010033 non-null  object\n",
      " 2    cityCode         1010033 non-null  int64 \n",
      " 3    cityName         1010033 non-null  object\n",
      " 4    HotelCode        1010033 non-null  int64 \n",
      " 5    HotelName        1010033 non-null  object\n",
      " 6    HotelRating      1010033 non-null  object\n",
      " 7    Address          1009931 non-null  object\n",
      " 8    Attractions      484941 non-null   object\n",
      " 9    Description      963028 non-null   object\n",
      " 10   FaxNumber        449686 non-null   object\n",
      " 11   HotelFacilities  959655 non-null   object\n",
      " 12   Map              1009103 non-null  object\n",
      " 13   PhoneNumber      682896 non-null   object\n",
      " 14   PinCode          979054 non-null   object\n",
      " 15   HotelWebsiteUrl  759915 non-null   object\n",
      "dtypes: int64(2), object(14)\n",
      "memory usage: 123.3+ MB\n"
     ]
    }
   ],
   "source": [
    "df.info()"
   ]
  },
  {
   "cell_type": "code",
   "execution_count": 4,
   "id": "b09eb84a",
   "metadata": {
    "execution": {
     "iopub.execute_input": "2024-03-09T16:03:33.428299Z",
     "iopub.status.busy": "2024-03-09T16:03:33.426927Z",
     "iopub.status.idle": "2024-03-09T16:03:37.833781Z",
     "shell.execute_reply": "2024-03-09T16:03:37.832318Z"
    },
    "papermill": {
     "duration": 4.419739,
     "end_time": "2024-03-09T16:03:37.837072",
     "exception": false,
     "start_time": "2024-03-09T16:03:33.417333",
     "status": "completed"
    },
    "tags": []
   },
   "outputs": [
    {
     "data": {
      "image/png": "[encoded data removed]",
      "text/plain": [
       "<Figure size 1200x600 with 1 Axes>"
      ]
     },
     "metadata": {},
     "output_type": "display_data"
    }
   ],
   "source": [
    "import matplotlib.pyplot as plt\n",
    "import seaborn as sns\n",
    "\n",
    "plt.figure(figsize=(12, 6))\n",
    "sns.countplot(data=df, x='countyCode', order=df['countyCode'].value_counts().index)\n",
    "plt.title('Distribution of Countries')\n",
    "plt.xlabel('Country Code')\n",
    "plt.ylabel('Count')\n",
    "plt.xticks(rotation=45, ha='right')\n",
    "plt.show()"
   ]
  },
  {
   "cell_type": "code",
   "execution_count": 5,
   "id": "c62a3af5",
   "metadata": {
    "execution": {
     "iopub.execute_input": "2024-03-09T16:03:37.857849Z",
     "iopub.status.busy": "2024-03-09T16:03:37.856758Z",
     "iopub.status.idle": "2024-03-09T16:03:37.949156Z",
     "shell.execute_reply": "2024-03-09T16:03:37.947811Z"
    },
    "papermill": {
     "duration": 0.106374,
     "end_time": "2024-03-09T16:03:37.952162",
     "exception": false,
     "start_time": "2024-03-09T16:03:37.845788",
     "status": "completed"
    },
    "tags": []
   },
   "outputs": [
    {
     "name": "stdout",
     "output_type": "stream",
     "text": [
      "Unique Countries: ['Albania' 'Andorra' 'Antigua' 'Argentina' 'Aruba' 'Australia' 'Austria'\n",
      " 'Azerbaijan' 'Bahamas' 'Bahrain' 'Barbados' 'Belarus' 'Belgium' 'Bolivia'\n",
      " 'Bosnia Herzegovina' 'Botswana' 'Brazil' 'Brunei Darussalam' 'Bulgaria'\n",
      " 'Cambodia' 'Cameroon' 'Canada' 'Chile' 'China' 'Colombia' 'Cook Islands'\n",
      " 'Costa Rica' 'Croatia' 'Cyprus' 'Czech Republic' 'Denmark'\n",
      " 'Dominican Republic' 'Ecuador' 'Egypt' 'Estonia' 'Ethiopia' 'Fiji'\n",
      " 'Finland' 'France' 'French Polynesia' 'Germany' 'Gibraltar' 'Greece'\n",
      " 'Grenada' 'Guadeloupe' 'Guam' 'Guatemala' 'Hong Kong' 'Hungary' 'Iceland'\n",
      " 'India' 'Indonesia' 'Ireland(Republic of)' 'Israel' 'Italy' 'Jamaica'\n",
      " 'Japan' 'Jordan' 'Kenya' 'Kuwait' 'Laos' 'Latvia' 'Lebanon' 'Libya'\n",
      " 'Liechtenstein' 'Lithuania' 'Luxembourg' 'Macau' 'Malaysia' 'Malta'\n",
      " 'Mauritius' 'Mexico' 'Monaco' 'Mongolia' 'Morocco' 'Myanmar' 'Namibia'\n",
      " 'Nepal' 'Netherlands' 'New Caledonia' 'New Zealand' 'Nigeria'\n",
      " 'Northern Mariana Isl' 'Norway' 'Oman' 'Palau' 'Panama' 'Paraguay' 'Peru'\n",
      " 'Philippines' 'Poland' 'Portugal' 'Puerto Rico' 'Qatar' 'Romania'\n",
      " 'Russia' 'Russian Federation' 'Samoa' 'San Marino' 'Saudi Arabia'\n",
      " 'Senegal' 'Serbia' 'Seychelles' 'Singapore' 'Slovakia' 'Slovenia'\n",
      " 'South Africa' 'South Korea' 'Spain' 'Sri Lanka' 'St Kitts & Nevis'\n",
      " 'St Lucia' 'St Vincent & Grenadi' 'Swaziland' 'Sweden' 'Switzerland'\n",
      " 'Taiwan' 'Tanzania' 'Thailand' 'Tonga' 'Trinidad & Tobago' 'Tunisia'\n",
      " 'Turkey' 'Turks & Caicos Islan' 'Ukraine' 'United Arab Emirates'\n",
      " 'United Kingdom' 'United States' 'Uruguay' 'Vanuatu' 'Venezuela'\n",
      " 'Vietnam' 'Virgin Islands (USA)' 'Yemen Republic' 'Zambia' 'Zimbabwe']\n"
     ]
    }
   ],
   "source": [
    "unique_countries = df[' countyName'].unique()\n",
    "print(\"Unique Countries:\", unique_countries)"
   ]
  },
  {
   "cell_type": "code",
   "execution_count": 6,
   "id": "d1f2de15",
   "metadata": {
    "execution": {
     "iopub.execute_input": "2024-03-09T16:03:37.972861Z",
     "iopub.status.busy": "2024-03-09T16:03:37.972438Z",
     "iopub.status.idle": "2024-03-09T16:03:38.050174Z",
     "shell.execute_reply": "2024-03-09T16:03:38.048440Z"
    },
    "papermill": {
     "duration": 0.092274,
     "end_time": "2024-03-09T16:03:38.053737",
     "exception": false,
     "start_time": "2024-03-09T16:03:37.961463",
     "status": "completed"
    },
    "tags": []
   },
   "outputs": [
    {
     "name": "stdout",
     "output_type": "stream",
     "text": [
      "Unique Country Codes: ['AL' 'AD' 'AG' 'AR' 'AW' 'AU' 'AT' 'AZ' 'BS' 'BH' 'BB' 'BY' 'BE' 'BO'\n",
      " 'BA' 'BW' 'BR' 'BN' 'BG' 'KH' 'CM' 'CA' 'CL' 'CN' 'CO' 'CK' 'CR' 'HR'\n",
      " 'CY' 'CZ' 'DK' 'DO' 'EC' 'EG' 'EE' 'ET' 'FJ' 'FI' 'FR' 'PF' 'DE' 'GI'\n",
      " 'GR' 'GD' 'GP' 'GU' 'GT' 'HK' 'HU' 'IS' 'IN' 'ID' 'IE' 'IL' 'IT' 'JM'\n",
      " 'JP' 'JO' 'KE' 'KW' 'LA' 'LV' 'LB' 'LY' 'LI' 'LT' 'LU' 'MO' 'MY' 'MT'\n",
      " 'MU' 'MX' 'MC' 'MN' 'MA' 'MM' nan 'NP' 'NL' 'NC' 'NZ' 'NG' 'MP' 'NO' 'OM'\n",
      " 'PW' 'PA' 'PY' 'PE' 'PH' 'PL' 'PT' 'PR' 'QA' 'RO' 'RU' 'WS' 'SM' 'SA'\n",
      " 'SN' 'RS' 'SC' 'SG' 'SK' 'SI' 'ZA' 'KR' 'ES' 'LK' 'KN' 'LC' 'VC' 'SZ'\n",
      " 'SE' 'CH' 'TW' 'TZ' 'TH' 'TO' 'TT' 'TN' 'TR' 'TC' 'UA' 'AE' 'GB' 'US'\n",
      " 'UY' 'VU' 'VE' 'VN' 'VI' 'YE' 'ZM' 'ZW']\n"
     ]
    }
   ],
   "source": [
    "unique_country_codes = df['countyCode'].unique()\n",
    "print(\"Unique Country Codes:\", unique_country_codes)"
   ]
  },
  {
   "cell_type": "code",
   "execution_count": 7,
   "id": "ba8ba73e",
   "metadata": {
    "execution": {
     "iopub.execute_input": "2024-03-09T16:03:38.073334Z",
     "iopub.status.busy": "2024-03-09T16:03:38.072938Z",
     "iopub.status.idle": "2024-03-09T16:03:38.305604Z",
     "shell.execute_reply": "2024-03-09T16:03:38.304541Z"
    },
    "papermill": {
     "duration": 0.245527,
     "end_time": "2024-03-09T16:03:38.308130",
     "exception": false,
     "start_time": "2024-03-09T16:03:38.062603",
     "status": "completed"
    },
    "tags": []
   },
   "outputs": [
    {
     "data": {
      "text/html": [
       "<div>\n",
       "<style scoped>\n",
       "    .dataframe tbody tr th:only-of-type {\n",
       "        vertical-align: middle;\n",
       "    }\n",
       "\n",
       "    .dataframe tbody tr th {\n",
       "        vertical-align: top;\n",
       "    }\n",
       "\n",
       "    .dataframe thead th {\n",
       "        text-align: right;\n",
       "    }\n",
       "</style>\n",
       "<table border=\"1\" class=\"dataframe\">\n",
       "  <thead>\n",
       "    <tr style=\"text-align: right;\">\n",
       "      <th></th>\n",
       "      <th>countyCode</th>\n",
       "      <th>countyName</th>\n",
       "      <th>cityCode</th>\n",
       "      <th>cityName</th>\n",
       "      <th>HotelCode</th>\n",
       "      <th>HotelName</th>\n",
       "      <th>HotelRating</th>\n",
       "      <th>Address</th>\n",
       "      <th>Attractions</th>\n",
       "      <th>Description</th>\n",
       "      <th>FaxNumber</th>\n",
       "      <th>HotelFacilities</th>\n",
       "      <th>Map</th>\n",
       "      <th>PhoneNumber</th>\n",
       "      <th>PinCode</th>\n",
       "      <th>HotelWebsiteUrl</th>\n",
       "    </tr>\n",
       "  </thead>\n",
       "  <tbody>\n",
       "    <tr>\n",
       "      <th>387441</th>\n",
       "      <td>ID</td>\n",
       "      <td>Indonesia</td>\n",
       "      <td>100110</td>\n",
       "      <td>Ababi</td>\n",
       "      <td>1026153</td>\n",
       "      <td>Pondok Batur Indah Homestay</td>\n",
       "      <td>ThreeStar</td>\n",
       "      <td>Desa Ababi Tirtagangga Karangasem TirtaganggaK...</td>\n",
       "      <td>Distances are displayed to the nearest 0.1 mil...</td>\n",
       "      <td>&lt;p&gt;HeadLine : Near Water Palace of Tirtagangga...</td>\n",
       "      <td>+6236322342</td>\n",
       "      <td>Dry cleaning/laundry service Airport transport...</td>\n",
       "      <td>-8.416068|115.581053</td>\n",
       "      <td>62-0363-22342</td>\n",
       "      <td>80852</td>\n",
       "      <td>http://www.pondokbaturindah.com/</td>\n",
       "    </tr>\n",
       "    <tr>\n",
       "      <th>387442</th>\n",
       "      <td>ID</td>\n",
       "      <td>Indonesia</td>\n",
       "      <td>100110</td>\n",
       "      <td>Ababi</td>\n",
       "      <td>1026321</td>\n",
       "      <td>Tirta Ayu Hotel &amp; Restaurant</td>\n",
       "      <td>ThreeStar</td>\n",
       "      <td>Tirtagangga The Water Palace TirtaganggaThe Wa...</td>\n",
       "      <td>Distances are displayed to the nearest 0.1 mil...</td>\n",
       "      <td>&lt;p&gt;HeadLine : Near Water Palace of Tirtagangga...</td>\n",
       "      <td>62-363-22503</td>\n",
       "      <td>Free parking nearby Pool umbrellas Natural poo...</td>\n",
       "      <td>-8.411944|115.58741</td>\n",
       "      <td>+6236322503</td>\n",
       "      <td>80852</td>\n",
       "      <td>http://www.hoteltirtagangga.com</td>\n",
       "    </tr>\n",
       "    <tr>\n",
       "      <th>387443</th>\n",
       "      <td>ID</td>\n",
       "      <td>Indonesia</td>\n",
       "      <td>100110</td>\n",
       "      <td>Ababi</td>\n",
       "      <td>1623963</td>\n",
       "      <td>Pondok Alam Bukit</td>\n",
       "      <td>OneStar</td>\n",
       "      <td>Tirtagangga Desa AbabiKarangasem 80852</td>\n",
       "      <td>NaN</td>\n",
       "      <td>Pondok Alam Bukit is situated in Tirtagangga a...</td>\n",
       "      <td>NaN</td>\n",
       "      <td>Parking Room service 24-hour front desk Garden...</td>\n",
       "      <td>-8.41095|115.58584</td>\n",
       "      <td>NaN</td>\n",
       "      <td>80852</td>\n",
       "      <td>https://www.booking.com/hotel/id/pondok-alam-b...</td>\n",
       "    </tr>\n",
       "    <tr>\n",
       "      <th>387444</th>\n",
       "      <td>ID</td>\n",
       "      <td>Indonesia</td>\n",
       "      <td>100110</td>\n",
       "      <td>Ababi</td>\n",
       "      <td>1818307</td>\n",
       "      <td>Pandan House</td>\n",
       "      <td>All</td>\n",
       "      <td>Pikat-tirta Gangga-amlapura Bali-karangasemCan...</td>\n",
       "      <td>NaN</td>\n",
       "      <td>Situated a few steps from Tirta Gangga Water P...</td>\n",
       "      <td>NaN</td>\n",
       "      <td>Free self parking Garden Non-smoking rooms Air...</td>\n",
       "      <td>-8.41206|115.58738</td>\n",
       "      <td>NaN</td>\n",
       "      <td>56849</td>\n",
       "      <td>https://www.booking.com/hotel/id/pandan-house....</td>\n",
       "    </tr>\n",
       "    <tr>\n",
       "      <th>387445</th>\n",
       "      <td>ID</td>\n",
       "      <td>Indonesia</td>\n",
       "      <td>100110</td>\n",
       "      <td>Ababi</td>\n",
       "      <td>1930386</td>\n",
       "      <td>Padoba Mimpi House</td>\n",
       "      <td>All</td>\n",
       "      <td>Tanah Lengis Ababi</td>\n",
       "      <td>NaN</td>\n",
       "      <td>NaN</td>\n",
       "      <td>NaN</td>\n",
       "      <td>NaN</td>\n",
       "      <td>-8.40925|115.58467</td>\n",
       "      <td>NaN</td>\n",
       "      <td>80852</td>\n",
       "      <td>NaN</td>\n",
       "    </tr>\n",
       "  </tbody>\n",
       "</table>\n",
       "</div>"
      ],
      "text/plain": [
       "       countyCode  countyName   cityCode  cityName   HotelCode  \\\n",
       "387441         ID   Indonesia     100110     Ababi     1026153   \n",
       "387442         ID   Indonesia     100110     Ababi     1026321   \n",
       "387443         ID   Indonesia     100110     Ababi     1623963   \n",
       "387444         ID   Indonesia     100110     Ababi     1818307   \n",
       "387445         ID   Indonesia     100110     Ababi     1930386   \n",
       "\n",
       "                           HotelName  HotelRating  \\\n",
       "387441   Pondok Batur Indah Homestay    ThreeStar   \n",
       "387442  Tirta Ayu Hotel & Restaurant    ThreeStar   \n",
       "387443             Pondok Alam Bukit      OneStar   \n",
       "387444                  Pandan House          All   \n",
       "387445            Padoba Mimpi House          All   \n",
       "\n",
       "                                                  Address  \\\n",
       "387441  Desa Ababi Tirtagangga Karangasem TirtaganggaK...   \n",
       "387442  Tirtagangga The Water Palace TirtaganggaThe Wa...   \n",
       "387443            Tirtagangga Desa AbabiKarangasem 80852    \n",
       "387444  Pikat-tirta Gangga-amlapura Bali-karangasemCan...   \n",
       "387445                                Tanah Lengis Ababi    \n",
       "\n",
       "                                              Attractions  \\\n",
       "387441  Distances are displayed to the nearest 0.1 mil...   \n",
       "387442  Distances are displayed to the nearest 0.1 mil...   \n",
       "387443                                                NaN   \n",
       "387444                                                NaN   \n",
       "387445                                                NaN   \n",
       "\n",
       "                                              Description     FaxNumber  \\\n",
       "387441  <p>HeadLine : Near Water Palace of Tirtagangga...   +6236322342   \n",
       "387442  <p>HeadLine : Near Water Palace of Tirtagangga...  62-363-22503   \n",
       "387443  Pondok Alam Bukit is situated in Tirtagangga a...           NaN   \n",
       "387444  Situated a few steps from Tirta Gangga Water P...           NaN   \n",
       "387445                                                NaN           NaN   \n",
       "\n",
       "                                          HotelFacilities  \\\n",
       "387441  Dry cleaning/laundry service Airport transport...   \n",
       "387442  Free parking nearby Pool umbrellas Natural poo...   \n",
       "387443  Parking Room service 24-hour front desk Garden...   \n",
       "387444  Free self parking Garden Non-smoking rooms Air...   \n",
       "387445                                                NaN   \n",
       "\n",
       "                         Map    PhoneNumber  PinCode  \\\n",
       "387441  -8.416068|115.581053  62-0363-22342    80852   \n",
       "387442   -8.411944|115.58741    +6236322503    80852   \n",
       "387443    -8.41095|115.58584            NaN    80852   \n",
       "387444    -8.41206|115.58738            NaN    56849   \n",
       "387445    -8.40925|115.58467            NaN    80852   \n",
       "\n",
       "                                          HotelWebsiteUrl  \n",
       "387441                   http://www.pondokbaturindah.com/  \n",
       "387442                    http://www.hoteltirtagangga.com  \n",
       "387443  https://www.booking.com/hotel/id/pondok-alam-b...  \n",
       "387444  https://www.booking.com/hotel/id/pandan-house....  \n",
       "387445                                                NaN  "
      ]
     },
     "execution_count": 7,
     "metadata": {},
     "output_type": "execute_result"
    }
   ],
   "source": [
    "df1 = df[df['countyCode'] == 'ID']\n",
    "df1.head()"
   ]
  },
  {
   "cell_type": "code",
   "execution_count": 8,
   "id": "be0303ac",
   "metadata": {
    "execution": {
     "iopub.execute_input": "2024-03-09T16:03:38.329335Z",
     "iopub.status.busy": "2024-03-09T16:03:38.328081Z",
     "iopub.status.idle": "2024-03-09T16:03:38.369461Z",
     "shell.execute_reply": "2024-03-09T16:03:38.367452Z"
    },
    "papermill": {
     "duration": 0.054822,
     "end_time": "2024-03-09T16:03:38.372325",
     "exception": false,
     "start_time": "2024-03-09T16:03:38.317503",
     "status": "completed"
    },
    "tags": []
   },
   "outputs": [
    {
     "name": "stdout",
     "output_type": "stream",
     "text": [
      "<class 'pandas.core.frame.DataFrame'>\n",
      "Index: 14589 entries, 387441 to 402029\n",
      "Data columns (total 16 columns):\n",
      " #   Column            Non-Null Count  Dtype \n",
      "---  ------            --------------  ----- \n",
      " 0   countyCode        14589 non-null  object\n",
      " 1    countyName       14589 non-null  object\n",
      " 2    cityCode         14589 non-null  int64 \n",
      " 3    cityName         14589 non-null  object\n",
      " 4    HotelCode        14589 non-null  int64 \n",
      " 5    HotelName        14589 non-null  object\n",
      " 6    HotelRating      14589 non-null  object\n",
      " 7    Address          14589 non-null  object\n",
      " 8    Attractions      8970 non-null   object\n",
      " 9    Description      13898 non-null  object\n",
      " 10   FaxNumber        7048 non-null   object\n",
      " 11   HotelFacilities  13950 non-null  object\n",
      " 12   Map              14573 non-null  object\n",
      " 13   PhoneNumber      10974 non-null  object\n",
      " 14   PinCode          14252 non-null  object\n",
      " 15   HotelWebsiteUrl  9886 non-null   object\n",
      "dtypes: int64(2), object(14)\n",
      "memory usage: 1.9+ MB\n"
     ]
    }
   ],
   "source": [
    "df1.info()"
   ]
  },
  {
   "cell_type": "code",
   "execution_count": 9,
   "id": "b5fd885b",
   "metadata": {
    "execution": {
     "iopub.execute_input": "2024-03-09T16:03:38.396183Z",
     "iopub.status.busy": "2024-03-09T16:03:38.394882Z",
     "iopub.status.idle": "2024-03-09T16:03:38.407836Z",
     "shell.execute_reply": "2024-03-09T16:03:38.405945Z"
    },
    "papermill": {
     "duration": 0.027979,
     "end_time": "2024-03-09T16:03:38.411616",
     "exception": false,
     "start_time": "2024-03-09T16:03:38.383637",
     "status": "completed"
    },
    "tags": []
   },
   "outputs": [
    {
     "name": "stdout",
     "output_type": "stream",
     "text": [
      "Unique City Name: ['Ababi' 'Ambon' 'Amed' 'Anyer' 'Bajawa' 'Baki' 'Bali' 'Balikpapan'\n",
      " 'Banda Aceh' 'Bandar Lampung' 'Bandung' 'Bandungan' 'Bangka Island'\n",
      " 'Banjarbaru' 'Banjarmasin' 'Banjarnegara' 'Banyuwangi' 'Batam Island'\n",
      " 'Batu' 'Batu Aji' 'Batu Ampar' 'Batu Karas' 'Batu Layar' 'Batuan'\n",
      " 'Batulicin' 'Baturaden' 'Baturiti' 'Bau-Bau' 'Bedugul' 'Bekasi'\n",
      " 'Bengkulu' 'Berau' 'Biak' 'Bima' 'Bintan Island' 'Bira' 'Bitung' 'Blitar'\n",
      " 'Bogor' 'Bohorok' 'Bojonegoro' 'Bondalem' 'Bondowoso' 'Bontang'\n",
      " 'Borobudur' 'Boyolali' 'Brastagi' 'Bukit Lawang' 'Bukittinggi'\n",
      " 'Bumi Serpong Damai' 'Bunaken Isand' 'Bunutan' 'Carita Beach'\n",
      " 'Ceningan Island' 'Cepu' 'Ciamis' 'Cianjur' 'Ciater' 'Cikarang' 'Cilacap'\n",
      " 'Cilegon' 'Cipanas' 'Cirebon' 'Cisarua' 'Curugrendeng' 'Demak' 'Depok'\n",
      " 'Dumai' 'Duri' 'Ende' 'Flores' 'Gangga Island' 'Garut' 'Gili Air'\n",
      " 'Gili Meno' 'Gili Sudak' 'Gili Trawangan' 'Gorontalo' 'Halmahera'\n",
      " 'Ijen Nationalpark' 'Indramayu' 'Insel Nusa Penida' 'Jakarta' 'Jambi'\n",
      " 'Jatingaleh' 'Java' 'Jayapura' 'Jember' 'Jepara' 'Jombang' 'Kalianda'\n",
      " 'Kalibaru' 'Kanawa Island' 'Karang Suraga' 'Karangasem' 'Karawang'\n",
      " 'Karimun Island' 'Karimunjawa' 'Kayu Putih' 'Kediri' 'Kedisan'\n",
      " 'Kedonganan' 'Kendari' 'Ketapang' 'Ketewel' 'Kintamani' 'Kota Rembang'\n",
      " 'Kotabaru,   Yogyakarta' 'Kubu' 'Kudus' 'Kumai' 'Kuningan' 'Kupang'\n",
      " 'Kuta (Lombok)' 'Labuan Bajo' 'Lake Toba' 'Langgur' 'Larantuka'\n",
      " 'Legian Kaja' 'Lembang' 'Lembongan Island' 'Lhoksuemawe' 'Lombok'\n",
      " 'Lombok Island' 'Lovina Beach' 'Lubuk Linggau' 'Luwuk' 'Madiun'\n",
      " 'Magelang' 'Makassar' 'Malang' 'Mamuju' 'Manado' 'Manggul' 'Maninjau'\n",
      " 'Manokwari' 'Mansuar' 'Martapura' 'Mataram' 'Maumere' 'Medan'\n",
      " 'Medana Beach' 'Mengwi' 'Mentawai Islands' 'Merauke' 'Mojokerto'\n",
      " 'Moni-Woloara' 'Moyo Island' 'Mt. Bromo' 'Muara Bungo' 'Muara Enim'\n",
      " 'Nabucco Island' 'Nagoya' 'Natar' 'Ngadisari' 'Nias Island' 'Pacet'\n",
      " 'Padang' 'Padang Sidempuan' 'Padangbai' 'Pakembinangun' 'Palangkaraya'\n",
      " 'Palembang' 'Palu' 'Pandeglang' 'Pangandaran' 'Pangkal Pinang'\n",
      " 'Pangkalan Bun' 'Pangururan' 'Parapat' 'Parepare' 'Pasuruan' 'Pati'\n",
      " 'Payangan' 'Pecatu' 'Pekalongan' 'Pekanbaru' 'Pelabuhan Ratu' 'Pelaga'\n",
      " 'Peliatan' 'Pemalang' 'Pematang Siantar' 'Pemuteran' 'Penebel'\n",
      " 'Penuktukan' 'Pererenan' 'Ponorogo' 'Pontianak' 'Poso' 'Prabumulih'\n",
      " 'Praya' 'Prigen' 'Probolinggo' 'Pulau Cubadak' 'Puncak' 'Pupuan'\n",
      " 'Purwakarta' 'Purwodadi' 'Purwokerto' 'Putri Nyale' 'Raja Ampat'\n",
      " 'Rantau Prapat' 'Rantepao' 'Rendang' 'Roti' 'Ruteng' 'Sabang' 'Salatiga'\n",
      " 'Samarinda' 'Samosir, Island' 'Sampang' 'Sampit' 'Saparua' 'Sarangan'\n",
      " 'Sawahlunto' 'Sebayur Island' 'Sekupang' 'Selayar' 'Semarang' 'Sendang'\n",
      " 'Sengata' 'Senggigi Beach' 'Sentul City' 'Serang' 'Seraya Kecil Island'\n",
      " 'Seririt' 'Sibolga' 'Sidemen' 'Sidoarjo' 'Siladen Island' 'Singkawang'\n",
      " 'Sleman' 'Solo Baru' 'Sorong' 'Subang' 'Sukabumi' 'Sukamakmur' 'Sukawati'\n",
      " 'Sukoharjo' 'Sumba Insel' 'Sumbawa' 'Sumbawa Besar' 'Sumenep' 'Surabaja'\n",
      " 'Surabaya' 'Surakarta (Solo)' 'Tambolaka' 'Tana Paser' 'Tanawangko'\n",
      " 'Tangerang' 'Tanjung' 'Tanjung Balai' 'Tanjung Pandan' 'Tanjung Pinang'\n",
      " 'Tanjung Ringgit' 'Tanjung Selor' 'Tanjung Tabalong' 'Tarakan'\n",
      " 'Tasikmalaya' 'Tawangmangu' 'Tegal' 'Tegallalang' 'Tejakula' 'Tembok'\n",
      " 'Temukus' 'Tenggarong' 'Tentana' 'Ternate' 'Tetebatu' 'Timika'\n",
      " 'Togian Islands' 'Tolitoli' 'Tomohon' 'Trawas' 'Tuban' 'Tulamben'\n",
      " 'Tulungagung' 'Ungasan' 'Waigeo Island' 'Waikabubak' 'Waingapu'\n",
      " 'Wakatobi Island' 'Wamena' 'Watampone' 'Way Kambas Nationalpark'\n",
      " 'Wonosobo' 'Wukirsari' 'Yogyakarta']\n"
     ]
    }
   ],
   "source": [
    "unique_city_name = df1[' cityName'].unique()\n",
    "print(\"Unique City Name:\", unique_city_name)"
   ]
  },
  {
   "cell_type": "code",
   "execution_count": 10,
   "id": "e41ba88b",
   "metadata": {
    "execution": {
     "iopub.execute_input": "2024-03-09T16:03:38.437616Z",
     "iopub.status.busy": "2024-03-09T16:03:38.436262Z",
     "iopub.status.idle": "2024-03-09T16:03:38.467946Z",
     "shell.execute_reply": "2024-03-09T16:03:38.466689Z"
    },
    "papermill": {
     "duration": 0.047668,
     "end_time": "2024-03-09T16:03:38.470848",
     "exception": false,
     "start_time": "2024-03-09T16:03:38.423180",
     "status": "completed"
    },
    "tags": []
   },
   "outputs": [
    {
     "data": {
      "text/html": [
       "<div>\n",
       "<style scoped>\n",
       "    .dataframe tbody tr th:only-of-type {\n",
       "        vertical-align: middle;\n",
       "    }\n",
       "\n",
       "    .dataframe tbody tr th {\n",
       "        vertical-align: top;\n",
       "    }\n",
       "\n",
       "    .dataframe thead th {\n",
       "        text-align: right;\n",
       "    }\n",
       "</style>\n",
       "<table border=\"1\" class=\"dataframe\">\n",
       "  <thead>\n",
       "    <tr style=\"text-align: right;\">\n",
       "      <th></th>\n",
       "      <th>countyCode</th>\n",
       "      <th>countyName</th>\n",
       "      <th>cityCode</th>\n",
       "      <th>cityName</th>\n",
       "      <th>HotelCode</th>\n",
       "      <th>HotelName</th>\n",
       "      <th>HotelRating</th>\n",
       "      <th>Address</th>\n",
       "      <th>Attractions</th>\n",
       "      <th>Description</th>\n",
       "      <th>FaxNumber</th>\n",
       "      <th>HotelFacilities</th>\n",
       "      <th>Map</th>\n",
       "      <th>PhoneNumber</th>\n",
       "      <th>PinCode</th>\n",
       "      <th>HotelWebsiteUrl</th>\n",
       "    </tr>\n",
       "  </thead>\n",
       "  <tbody>\n",
       "    <tr>\n",
       "      <th>395682</th>\n",
       "      <td>ID</td>\n",
       "      <td>Indonesia</td>\n",
       "      <td>151201</td>\n",
       "      <td>Kotabaru,   Yogyakarta</td>\n",
       "      <td>1221432</td>\n",
       "      <td>Le Krasak Boutique Hotel</td>\n",
       "      <td>ThreeStar</td>\n",
       "      <td>Jl. Krasak No. 9 Tugu Jogja Tugu JogjaYogyakar...</td>\n",
       "      <td>Distances are displayed to the nearest 0.1 mil...</td>\n",
       "      <td>&lt;p&gt;HeadLine : Near Kota Gede&lt;/p&gt;&lt;p&gt;Location : ...</td>\n",
       "      <td>62-274-517745</td>\n",
       "      <td>Dry cleaning/laundry service Luggage storage M...</td>\n",
       "      <td>-7.788924|110.372674</td>\n",
       "      <td>+62 274 580619</td>\n",
       "      <td>55224</td>\n",
       "      <td>http://www.le-krasak.com/</td>\n",
       "    </tr>\n",
       "    <tr>\n",
       "      <th>395683</th>\n",
       "      <td>ID</td>\n",
       "      <td>Indonesia</td>\n",
       "      <td>151201</td>\n",
       "      <td>Kotabaru,   Yogyakarta</td>\n",
       "      <td>1400062</td>\n",
       "      <td>Hotel Graha Kinasih Kotabaru</td>\n",
       "      <td>OneStar</td>\n",
       "      <td>Jalan Ungaran No 1 Kotabaru Yogyakarta 55224Ko...</td>\n",
       "      <td>NaN</td>\n",
       "      <td>A 15-minute drive from the royal palace of Yog...</td>\n",
       "      <td>NaN</td>\n",
       "      <td>linens  towels and laundry washed in accordanc...</td>\n",
       "      <td>-7.78747|110.37066</td>\n",
       "      <td>(0274) 515844</td>\n",
       "      <td>55224</td>\n",
       "      <td>https://www.booking.com/hotel/id/graha-kinasih...</td>\n",
       "    </tr>\n",
       "    <tr>\n",
       "      <th>395684</th>\n",
       "      <td>ID</td>\n",
       "      <td>Indonesia</td>\n",
       "      <td>151201</td>\n",
       "      <td>Kotabaru,   Yogyakarta</td>\n",
       "      <td>1482789</td>\n",
       "      <td>Ndalem Fatiha Guest House</td>\n",
       "      <td>OneStar</td>\n",
       "      <td>Jalan Palagan Tentara Pelajar Km. 7 Yogyakarta</td>\n",
       "      <td>NaN</td>\n",
       "      <td>Ndalem Fatiha Guest House is a popular choice ...</td>\n",
       "      <td>NaN</td>\n",
       "      <td>Wi-Fi in public areas family room car park Smo...</td>\n",
       "      <td>-7.78703|110.378</td>\n",
       "      <td>NaN</td>\n",
       "      <td>NaN</td>\n",
       "      <td>http://ndalem-fatiha-guest-house.yogyakartahot...</td>\n",
       "    </tr>\n",
       "    <tr>\n",
       "      <th>395685</th>\n",
       "      <td>ID</td>\n",
       "      <td>Indonesia</td>\n",
       "      <td>151201</td>\n",
       "      <td>Kotabaru,   Yogyakarta</td>\n",
       "      <td>1483467</td>\n",
       "      <td>Rumah Teras Yogyakarta</td>\n",
       "      <td>TwoStar</td>\n",
       "      <td>Jalan Raya Rejodani Behind Redjodani MarketNga...</td>\n",
       "      <td>Distances are displayed to the nearest 0.1 mil...</td>\n",
       "      <td>&lt;p&gt;HeadLine : In Ngaglik&lt;/p&gt;&lt;p&gt;Location : Loca...</td>\n",
       "      <td>NaN</td>\n",
       "      <td>Outdoor pool Smoke-free property</td>\n",
       "      <td>-7.707315|110.39242</td>\n",
       "      <td>62-21-80681198</td>\n",
       "      <td>55581</td>\n",
       "      <td>NaN</td>\n",
       "    </tr>\n",
       "    <tr>\n",
       "      <th>395686</th>\n",
       "      <td>ID</td>\n",
       "      <td>Indonesia</td>\n",
       "      <td>151201</td>\n",
       "      <td>Kotabaru,   Yogyakarta</td>\n",
       "      <td>1483698</td>\n",
       "      <td>Ndalem Joglo Hinggil Private Villa</td>\n",
       "      <td>OneStar</td>\n",
       "      <td>Jalan Kaliurang, Km 20 HargobinangunPakemYogya...</td>\n",
       "      <td>NaN</td>\n",
       "      <td>The 1-star Ndalem Joglo Hinggil Private Villa ...</td>\n",
       "      <td>NaN</td>\n",
       "      <td>coffee shop tours 24-hour room service meeting...</td>\n",
       "      <td>-7.78703|110.378</td>\n",
       "      <td>NaN</td>\n",
       "      <td>55582</td>\n",
       "      <td>NaN</td>\n",
       "    </tr>\n",
       "  </tbody>\n",
       "</table>\n",
       "</div>"
      ],
      "text/plain": [
       "       countyCode  countyName   cityCode                cityName   HotelCode  \\\n",
       "395682         ID   Indonesia     151201  Kotabaru,   Yogyakarta     1221432   \n",
       "395683         ID   Indonesia     151201  Kotabaru,   Yogyakarta     1400062   \n",
       "395684         ID   Indonesia     151201  Kotabaru,   Yogyakarta     1482789   \n",
       "395685         ID   Indonesia     151201  Kotabaru,   Yogyakarta     1483467   \n",
       "395686         ID   Indonesia     151201  Kotabaru,   Yogyakarta     1483698   \n",
       "\n",
       "                                 HotelName  HotelRating  \\\n",
       "395682            Le Krasak Boutique Hotel    ThreeStar   \n",
       "395683        Hotel Graha Kinasih Kotabaru      OneStar   \n",
       "395684           Ndalem Fatiha Guest House      OneStar   \n",
       "395685              Rumah Teras Yogyakarta      TwoStar   \n",
       "395686  Ndalem Joglo Hinggil Private Villa      OneStar   \n",
       "\n",
       "                                                  Address  \\\n",
       "395682  Jl. Krasak No. 9 Tugu Jogja Tugu JogjaYogyakar...   \n",
       "395683  Jalan Ungaran No 1 Kotabaru Yogyakarta 55224Ko...   \n",
       "395684    Jalan Palagan Tentara Pelajar Km. 7 Yogyakarta    \n",
       "395685  Jalan Raya Rejodani Behind Redjodani MarketNga...   \n",
       "395686  Jalan Kaliurang, Km 20 HargobinangunPakemYogya...   \n",
       "\n",
       "                                              Attractions  \\\n",
       "395682  Distances are displayed to the nearest 0.1 mil...   \n",
       "395683                                                NaN   \n",
       "395684                                                NaN   \n",
       "395685  Distances are displayed to the nearest 0.1 mil...   \n",
       "395686                                                NaN   \n",
       "\n",
       "                                              Description      FaxNumber  \\\n",
       "395682  <p>HeadLine : Near Kota Gede</p><p>Location : ...  62-274-517745   \n",
       "395683  A 15-minute drive from the royal palace of Yog...            NaN   \n",
       "395684  Ndalem Fatiha Guest House is a popular choice ...            NaN   \n",
       "395685  <p>HeadLine : In Ngaglik</p><p>Location : Loca...            NaN   \n",
       "395686  The 1-star Ndalem Joglo Hinggil Private Villa ...            NaN   \n",
       "\n",
       "                                          HotelFacilities  \\\n",
       "395682  Dry cleaning/laundry service Luggage storage M...   \n",
       "395683  linens  towels and laundry washed in accordanc...   \n",
       "395684  Wi-Fi in public areas family room car park Smo...   \n",
       "395685                   Outdoor pool Smoke-free property   \n",
       "395686  coffee shop tours 24-hour room service meeting...   \n",
       "\n",
       "                         Map     PhoneNumber  PinCode  \\\n",
       "395682  -7.788924|110.372674  +62 274 580619    55224   \n",
       "395683    -7.78747|110.37066   (0274) 515844    55224   \n",
       "395684      -7.78703|110.378             NaN      NaN   \n",
       "395685   -7.707315|110.39242  62-21-80681198    55581   \n",
       "395686      -7.78703|110.378             NaN    55582   \n",
       "\n",
       "                                          HotelWebsiteUrl  \n",
       "395682                          http://www.le-krasak.com/  \n",
       "395683  https://www.booking.com/hotel/id/graha-kinasih...  \n",
       "395684  http://ndalem-fatiha-guest-house.yogyakartahot...  \n",
       "395685                                                NaN  \n",
       "395686                                                NaN  "
      ]
     },
     "execution_count": 10,
     "metadata": {},
     "output_type": "execute_result"
    }
   ],
   "source": [
    "selected_cities = ['Kotabaru,   Yogyakarta', 'Sleman', 'Wukirsari', 'Yogyakarta']\n",
    "df_yog = df1[df1[' cityName'].isin(selected_cities)]\n",
    "\n",
    "df_yog.head()"
   ]
  },
  {
   "cell_type": "code",
   "execution_count": 11,
   "id": "1a70282f",
   "metadata": {
    "execution": {
     "iopub.execute_input": "2024-03-09T16:03:38.493784Z",
     "iopub.status.busy": "2024-03-09T16:03:38.493326Z",
     "iopub.status.idle": "2024-03-09T16:03:38.508412Z",
     "shell.execute_reply": "2024-03-09T16:03:38.506899Z"
    },
    "papermill": {
     "duration": 0.02994,
     "end_time": "2024-03-09T16:03:38.511106",
     "exception": false,
     "start_time": "2024-03-09T16:03:38.481166",
     "status": "completed"
    },
    "tags": []
   },
   "outputs": [
    {
     "name": "stdout",
     "output_type": "stream",
     "text": [
      "<class 'pandas.core.frame.DataFrame'>\n",
      "Index: 603 entries, 395682 to 402029\n",
      "Data columns (total 16 columns):\n",
      " #   Column            Non-Null Count  Dtype \n",
      "---  ------            --------------  ----- \n",
      " 0   countyCode        603 non-null    object\n",
      " 1    countyName       603 non-null    object\n",
      " 2    cityCode         603 non-null    int64 \n",
      " 3    cityName         603 non-null    object\n",
      " 4    HotelCode        603 non-null    int64 \n",
      " 5    HotelName        603 non-null    object\n",
      " 6    HotelRating      603 non-null    object\n",
      " 7    Address          603 non-null    object\n",
      " 8    Attractions      378 non-null    object\n",
      " 9    Description      582 non-null    object\n",
      " 10   FaxNumber        329 non-null    object\n",
      " 11   HotelFacilities  590 non-null    object\n",
      " 12   Map              603 non-null    object\n",
      " 13   PhoneNumber      484 non-null    object\n",
      " 14   PinCode          584 non-null    object\n",
      " 15   HotelWebsiteUrl  423 non-null    object\n",
      "dtypes: int64(2), object(14)\n",
      "memory usage: 80.1+ KB\n"
     ]
    }
   ],
   "source": [
    "df_yog.info()"
   ]
  },
  {
   "cell_type": "code",
   "execution_count": 12,
   "id": "2bd155f3",
   "metadata": {
    "execution": {
     "iopub.execute_input": "2024-03-09T16:03:38.534396Z",
     "iopub.status.busy": "2024-03-09T16:03:38.533936Z",
     "iopub.status.idle": "2024-03-09T16:03:38.542686Z",
     "shell.execute_reply": "2024-03-09T16:03:38.541278Z"
    },
    "papermill": {
     "duration": 0.026403,
     "end_time": "2024-03-09T16:03:38.547712",
     "exception": false,
     "start_time": "2024-03-09T16:03:38.521309",
     "status": "completed"
    },
    "tags": []
   },
   "outputs": [
    {
     "name": "stdout",
     "output_type": "stream",
     "text": [
      "countyCode            0\n",
      " countyName           0\n",
      " cityCode             0\n",
      " cityName             0\n",
      " HotelCode            0\n",
      " HotelName            0\n",
      " HotelRating          0\n",
      " Address              0\n",
      " Attractions        225\n",
      " Description         21\n",
      " FaxNumber          274\n",
      " HotelFacilities     13\n",
      " Map                  0\n",
      " PhoneNumber        119\n",
      " PinCode             19\n",
      " HotelWebsiteUrl    180\n",
      "dtype: int64\n"
     ]
    }
   ],
   "source": [
    "missing_values = df_yog.isnull().sum()\n",
    "print(missing_values)"
   ]
  },
  {
   "cell_type": "code",
   "execution_count": 13,
   "id": "48629d4b",
   "metadata": {
    "execution": {
     "iopub.execute_input": "2024-03-09T16:03:38.571868Z",
     "iopub.status.busy": "2024-03-09T16:03:38.571462Z",
     "iopub.status.idle": "2024-03-09T16:03:38.778140Z",
     "shell.execute_reply": "2024-03-09T16:03:38.776746Z"
    },
    "papermill": {
     "duration": 0.222834,
     "end_time": "2024-03-09T16:03:38.781074",
     "exception": false,
     "start_time": "2024-03-09T16:03:38.558240",
     "status": "completed"
    },
    "tags": []
   },
   "outputs": [],
   "source": [
    "df_yog = df.copy()"
   ]
  },
  {
   "cell_type": "code",
   "execution_count": 14,
   "id": "49dd78ca",
   "metadata": {
    "execution": {
     "iopub.execute_input": "2024-03-09T16:03:38.803297Z",
     "iopub.status.busy": "2024-03-09T16:03:38.802886Z",
     "iopub.status.idle": "2024-03-09T16:03:39.988461Z",
     "shell.execute_reply": "2024-03-09T16:03:39.984955Z"
    },
    "papermill": {
     "duration": 1.200328,
     "end_time": "2024-03-09T16:03:39.991517",
     "exception": false,
     "start_time": "2024-03-09T16:03:38.791189",
     "status": "completed"
    },
    "tags": []
   },
   "outputs": [],
   "source": [
    "# Using .loc[] to avoid SettingWithCopyWarning\n",
    "df_yog.loc[:, ' Address'] = df_yog[' Address'].fillna('Address not available')\n",
    "df_yog.loc[:, ' Attractions'] = df_yog[' Attractions'].fillna('No attractions nearby')\n",
    "df_yog.loc[:, ' Description'] = df_yog[' Description'].fillna('Description not available')\n",
    "df_yog.loc[:, ' HotelFacilities'] = df_yog[' HotelFacilities'].fillna('Facilities not specified')\n",
    "df_yog.loc[:, ' PinCode'] = df_yog[' PinCode'].fillna('000000')"
   ]
  },
  {
   "cell_type": "code",
   "execution_count": 15,
   "id": "3b53ace0",
   "metadata": {
    "execution": {
     "iopub.execute_input": "2024-03-09T16:03:40.024815Z",
     "iopub.status.busy": "2024-03-09T16:03:40.023728Z",
     "iopub.status.idle": "2024-03-09T16:03:41.602135Z",
     "shell.execute_reply": "2024-03-09T16:03:41.601182Z"
    },
    "papermill": {
     "duration": 1.597482,
     "end_time": "2024-03-09T16:03:41.604934",
     "exception": false,
     "start_time": "2024-03-09T16:03:40.007452",
     "status": "completed"
    },
    "tags": []
   },
   "outputs": [
    {
     "name": "stdout",
     "output_type": "stream",
     "text": [
      "countyCode             912\n",
      " countyName              0\n",
      " cityCode                0\n",
      " cityName                0\n",
      " HotelCode               0\n",
      " HotelName               0\n",
      " HotelRating             0\n",
      " Address                 0\n",
      " Attractions             0\n",
      " Description             0\n",
      " FaxNumber          560347\n",
      " HotelFacilities         0\n",
      " Map                   930\n",
      " PhoneNumber        327137\n",
      " PinCode                 0\n",
      " HotelWebsiteUrl    250118\n",
      "dtype: int64\n"
     ]
    }
   ],
   "source": [
    "missing_values = df_yog.isnull().sum()\n",
    "print(missing_values)"
   ]
  },
  {
   "cell_type": "code",
   "execution_count": 16,
   "id": "bf5dbf80",
   "metadata": {
    "execution": {
     "iopub.execute_input": "2024-03-09T16:03:41.627094Z",
     "iopub.status.busy": "2024-03-09T16:03:41.626671Z",
     "iopub.status.idle": "2024-03-09T16:03:41.727543Z",
     "shell.execute_reply": "2024-03-09T16:03:41.726337Z"
    },
    "papermill": {
     "duration": 0.114875,
     "end_time": "2024-03-09T16:03:41.730021",
     "exception": false,
     "start_time": "2024-03-09T16:03:41.615146",
     "status": "completed"
    },
    "tags": []
   },
   "outputs": [
    {
     "name": "stdout",
     "output_type": "stream",
     "text": [
      "Unique Hotel Rating: ['FourStar' 'ThreeStar' 'All' 'FiveStar' 'TwoStar' 'OneStar']\n"
     ]
    }
   ],
   "source": [
    "unique_hotel_rating = df_yog[' HotelRating'].unique()\n",
    "print(\"Unique Hotel Rating:\", unique_hotel_rating)"
   ]
  },
  {
   "cell_type": "code",
   "execution_count": 17,
   "id": "1fd73e5d",
   "metadata": {
    "execution": {
     "iopub.execute_input": "2024-03-09T16:03:41.752288Z",
     "iopub.status.busy": "2024-03-09T16:03:41.751868Z",
     "iopub.status.idle": "2024-03-09T16:03:43.030871Z",
     "shell.execute_reply": "2024-03-09T16:03:43.029622Z"
    },
    "papermill": {
     "duration": 1.293537,
     "end_time": "2024-03-09T16:03:43.033776",
     "exception": false,
     "start_time": "2024-03-09T16:03:41.740239",
     "status": "completed"
    },
    "tags": []
   },
   "outputs": [
    {
     "data": {
      "image/png": "[encoded data removed]",
      "text/plain": [
       "<Figure size 1200x600 with 1 Axes>"
      ]
     },
     "metadata": {},
     "output_type": "display_data"
    }
   ],
   "source": [
    "plt.figure(figsize=(12, 6))\n",
    "sns.countplot(data=df_yog, x=' HotelRating', order=df_yog[' HotelRating'].value_counts().index)\n",
    "plt.title('Distribution of Hotel Rating')\n",
    "plt.xlabel('Hotel Rating')\n",
    "plt.ylabel('Count')\n",
    "plt.xticks(rotation=45, ha='right')\n",
    "plt.show()"
   ]
  },
  {
   "cell_type": "code",
   "execution_count": null,
   "id": "af9afac1",
   "metadata": {
    "papermill": {
     "duration": 0.011721,
     "end_time": "2024-03-09T16:03:43.056961",
     "exception": false,
     "start_time": "2024-03-09T16:03:43.045240",
     "status": "completed"
    },
    "tags": []
   },
   "outputs": [],
   "source": []
  }
 ],
 "metadata": {
  "kaggle": {
   "accelerator": "none",
   "dataSources": [
    {
     "datasetId": 4392111,
     "sourceId": 7542286,
     "sourceType": "datasetVersion"
    }
   ],
   "dockerImageVersionId": 30664,
   "isGpuEnabled": false,
   "isInternetEnabled": true,
   "language": "python",
   "sourceType": "notebook"
  },
  "kernelspec": {
   "display_name": "Python 3",
   "language": "python",
   "name": "python3"
  },
  "language_info": {
   "codemirror_mode": {
    "name": "ipython",
    "version": 3
   },
   "file_extension": ".py",
   "mimetype": "text/x-python",
   "name": "python",
   "nbconvert_exporter": "python",
   "pygments_lexer": "ipython3",
   "version": "3.10.13"
  },
  "papermill": {
   "default_parameters": {},
   "duration": 93.476101,
   "end_time": "2024-03-09T16:03:44.494657",
   "environment_variables": {},
   "exception": null,
   "input_path": "__notebook__.ipynb",
   "output_path": "__notebook__.ipynb",
   "parameters": {},
   "start_time": "2024-03-09T16:02:11.018556",
   "version": "2.5.0"
  }
 },
 "nbformat": 4,
 "nbformat_minor": 5
}
